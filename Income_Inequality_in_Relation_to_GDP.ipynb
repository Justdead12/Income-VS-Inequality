{
  "nbformat": 4,
  "nbformat_minor": 0,
  "metadata": {
    "colab": {
      "name": "Income Inequality in Relation to GDP.ipynb",
      "provenance": [],
      "collapsed_sections": [],
      "authorship_tag": "ABX9TyOKnoeO84m85weBySdpYurC",
      "include_colab_link": true
    },
    "kernelspec": {
      "name": "python3",
      "display_name": "Python 3"
    },
    "language_info": {
      "name": "python"
    }
  },
  "cells": [
    {
      "cell_type": "markdown",
      "metadata": {
        "id": "view-in-github",
        "colab_type": "text"
      },
      "source": [
        "<a href=\"https://colab.research.google.com/github/Justdead12/Income-VS-Inequality/blob/main/Income_Inequality_in_Relation_to_GDP.ipynb\" target=\"_parent\"><img src=\"https://colab.research.google.com/assets/colab-badge.svg\" alt=\"Open In Colab\"/></a>"
      ]
    },
    {
      "cell_type": "code",
      "execution_count": 150,
      "metadata": {
        "id": "JDQJpAocvay7"
      },
      "outputs": [],
      "source": [
        "import pandas as pd\n",
        "import numpy as np\n",
        "%reload_ext google.colab.data_table\n",
        "\n",
        "inequality = pd.read_csv('https://raw.githubusercontent.com/Justdead12/Income-VS-Inequality/main/economic-inequality-gini-index.csv', encoding = 'cp1252')\n",
        "gdp = pd.read_csv('https://raw.githubusercontent.com/Justdead12/Income-VS-Inequality/main/gdp-per-capita-maddison-2020.csv', encoding = 'cp1252')"
      ]
    },
    {
      "cell_type": "code",
      "source": [
        "gdp1 = gdp[['Entity', 'Year', 'GDP per capita']]\n",
        "gdp1 = gdp1[(gdp1['Year'] > 1980)]\n",
        "gdp1['GDP per capita'] = gdp1['GDP per capita'].round(2)\n",
        "\n",
        "inequality = inequality[['Entity', 'Year', 'Gini index']]\n",
        "inequality['Gini index'] = inequality['Gini index'].round(2)\n",
        "\n",
        "df = pd.merge(inequality, gdp1, on= ['Entity', 'Year'])"
      ],
      "metadata": {
        "colab": {
          "base_uri": "https://localhost:8080/"
        },
        "id": "MA_HfOcAxqH-",
        "outputId": "03999fcf-0f0a-4356-b1c5-97f55cbab003"
      },
      "execution_count": 151,
      "outputs": [
        {
          "output_type": "stream",
          "name": "stderr",
          "text": [
            "/usr/local/lib/python3.7/dist-packages/ipykernel_launcher.py:6: SettingWithCopyWarning: \n",
            "A value is trying to be set on a copy of a slice from a DataFrame.\n",
            "Try using .loc[row_indexer,col_indexer] = value instead\n",
            "\n",
            "See the caveats in the documentation: https://pandas.pydata.org/pandas-docs/stable/user_guide/indexing.html#returning-a-view-versus-a-copy\n",
            "  \n"
          ]
        }
      ]
    },
    {
      "cell_type": "code",
      "source": [
        "correlation = df['Gini index'].corr(df['GDP per capita'])\n",
        "correlation\n",
        "\n",
        "# Er is een negatieve correlatie tussen de Gini index en de GDP. Dit houdt in dat wanneer de ene stijgt, de andere daalt en andersom."
      ],
      "metadata": {
        "colab": {
          "base_uri": "https://localhost:8080/"
        },
        "id": "zQzCHQ0DVn63",
        "outputId": "ee3edf6d-85a4-476d-c75e-05d03b967bab"
      },
      "execution_count": 157,
      "outputs": [
        {
          "output_type": "execute_result",
          "data": {
            "text/plain": [
              "-0.4157311538569462"
            ]
          },
          "metadata": {},
          "execution_count": 157
        }
      ]
    }
  ]
}